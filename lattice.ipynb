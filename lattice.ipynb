{
 "cells": [
  {
   "cell_type": "code",
   "execution_count": 54,
   "metadata": {},
   "outputs": [
    {
     "name": "stdout",
     "output_type": "stream",
     "text": [
      "Les vecteurs de base du réseau direct : v1 =  [ 7.76604236 -2.03175802  0.        ] v2 = [7.76604236 2.03175802 0.        ] v3 = [7.23449225 0.         3.47873201]\n",
      "Les vecteurs de base du réseau réciproque : v1* = [ 0.40452943 -1.54624351 -0.84127348] v2* = [ 0.40452943  1.54624351 -0.84127348] v3* = [0.         0.         1.80617112]\n",
      "Type de maille : rhombohedral\n",
      "Groupe Cristallin : trigonal\n",
      "Groupe de symétrie ponctuel : -3m\n"
     ]
    }
   ],
   "source": [
    "from pymatgen.ext.matproj import MPRester\n",
    "from pymatgen.symmetry.analyzer import SpacegroupAnalyzer\n",
    "from pymatgen.core.lattice import Lattice\n",
    "with MPRester (\"puId7PZyCiPcHGVBKl\") as m:\n",
    "    #On définit les variables nécessaires pour la suite\n",
    "    structure = m.get_structure_by_material_id(\"mp-9366\")\n",
    "    PrimitiveStructure = SpacegroupAnalyzer(structure).get_primitive_standard_structure()\n",
    "    lattice = PrimitiveStructure.lattice\n",
    "    analyzer = SpacegroupAnalyzer(PrimitiveStructure)\n",
    "    #Vecteurs du réseau direct\n",
    "    matrix = lattice.matrix\n",
    "    v1 = matrix[0,:] ; v2 = matrix[1,:] ; v3 = matrix[2,:]\n",
    "    #Vecteurs du réseau réciproque\n",
    "    rmatrix = lattice.reciprocal_lattice.matrix\n",
    "    rv1 = rmatrix[0,:] ; rv2 = rmatrix[1,:] ; rv3 = rmatrix[2,:]\n",
    "    #Type de maille\n",
    "    Maille = analyzer.get_lattice_type()\n",
    "    #Système cristallin\n",
    "    Systeme = analyzer.get_crystal_system()\n",
    "    #Groupe de symétrie ponctuel\n",
    "    GroupeSymetriePonctuel = analyzer.get_point_group_symbol()\n",
    "    #On imprime nos résultats\n",
    "    print(\"Les vecteurs de base du réseau direct :\", \"v1 = \",v1,\"v2 =\",v2,\"v3 =\",v3)\n",
    "    print(\"Les vecteurs de base du réseau réciproque :\", \"v1* =\",rv1,\"v2* =\",rv2,\"v3* =\",rv3)\n",
    "    print(\"Type de maille :\",Maille)\n",
    "    print(\"Groupe Cristallin :\",Systeme)\n",
    "    print(\"Groupe de symétrie ponctuel :\",GroupeSymetriePonctuel)"
   ]
  }
 ],
 "metadata": {
  "kernelspec": {
   "display_name": "Python 3",
   "language": "python",
   "name": "python3"
  },
  "language_info": {
   "codemirror_mode": {
    "name": "ipython",
    "version": 3
   },
   "file_extension": ".py",
   "mimetype": "text/x-python",
   "name": "python",
   "nbconvert_exporter": "python",
   "pygments_lexer": "ipython3",
   "version": "3.6.8"
  }
 },
 "nbformat": 4,
 "nbformat_minor": 2
}

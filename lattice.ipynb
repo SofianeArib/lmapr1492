{
 "cells": [
  {
   "cell_type": "code",
   "execution_count": 6,
   "metadata": {},
   "outputs": [],
   "source": [
    "from pymatgen.ext.matproj import MPRester\n",
    "from pymatgen.symmetry.analyzer import SpacegroupAnalyzer\n",
    "from pymatgen.core.lattice import Lattice\n",
    "with MPRester (\"puId7PZyCiPcHGVBKl\") as m:\n",
    "    #On définit les variables nécessaires pour la suite\n",
    "    structure = m.get_structure_by_material_id(\"mp-9366\")\n",
    "    PrimitiveStructure = SpacegroupAnalyzer(structure).get_primitive_standard_structure()\n",
    "    lattice = PrimitiveStructure.lattice #lattice object\n",
    "    analyzer = SpacegroupAnalyzer(PrimitiveStructure) #SpacegroupAnalyzer object"
   ]
  },
  {
   "cell_type": "code",
   "execution_count": 7,
   "metadata": {},
   "outputs": [],
   "source": [
    "#Vecteurs du réseau direct\n",
    "matrix = lattice.matrix\n",
    "v1 = matrix[0,:] ; v2 = matrix[1,:] ; v3 = matrix[2,:]\n",
    "#Vecteurs du réseau réciproque\n",
    "rmatrix = lattice.reciprocal_lattice.matrix\n",
    "rv1 = rmatrix[0,:] ; rv2 = rmatrix[1,:] ; rv3 = rmatrix[2,:]\n",
    "#Type de maille\n",
    "Maille = analyzer.get_lattice_type()\n",
    "#Système cristallin\n",
    "Systeme = analyzer.get_crystal_system()\n",
    "#Groupe de symétrie ponctuel\n",
    "GroupeSymetriePonctuel = analyzer.get_point_group_symbol()"
   ]
  },
  {
   "cell_type": "code",
   "execution_count": 14,
   "metadata": {},
   "outputs": [
    {
     "name": "stdout",
     "output_type": "stream",
     "text": [
      "\n",
      " Les vecteurs de base du réseau direct :\n",
      " v1 = \t [ 7.76604236 -2.03175802  0.        ] \n",
      " v2 = \t [7.76604236 2.03175802 0.        ] \n",
      " v3 = \t [7.23449225 0.         3.47873201]\n",
      "\n",
      " Les vecteurs de base du réseau réciproque :\n",
      " v1* = \t [ 0.40452943 -1.54624351 -0.84127348] \n",
      " v2* = \t [ 0.40452943  1.54624351 -0.84127348] \n",
      " v3* = \t [0.         0.         1.80617112]\n",
      "\n",
      " Type de maille :\t rhombohedral\n",
      "\n",
      " Groupe Cristallin :\t trigonal\n",
      "\n",
      " Groupe de symétrie ponctuel :\t -3m\n"
     ]
    }
   ],
   "source": [
    "#On imprime nos résultats\n",
    "print(\"\\n Les vecteurs de base du réseau direct :\\n\", \"v1 = \\t\",v1,\"\\n v2 = \\t\",v2,\"\\n v3 = \\t\",v3)\n",
    "print(\"\\n Les vecteurs de base du réseau réciproque :\\n\", \"v1* = \\t\",rv1,\"\\n v2* = \\t\",rv2,\"\\n v3* = \\t\",rv3)\n",
    "print(\"\\n Type de maille :\\t\",Maille)\n",
    "print(\"\\n Groupe Cristallin :\\t\",Systeme)\n",
    "print(\"\\n Groupe de symétrie ponctuel :\\t\",GroupeSymetriePonctuel)"
   ]
  },
  {
   "cell_type": "code",
   "execution_count": null,
   "metadata": {},
   "outputs": [],
   "source": []
  }
 ],
 "metadata": {
  "kernelspec": {
   "display_name": "Python 3",
   "language": "python",
   "name": "python3"
  },
  "language_info": {
   "codemirror_mode": {
    "name": "ipython",
    "version": 3
   },
   "file_extension": ".py",
   "mimetype": "text/x-python",
   "name": "python",
   "nbconvert_exporter": "python",
   "pygments_lexer": "ipython3",
   "version": "3.6.8"
  }
 },
 "nbformat": 4,
 "nbformat_minor": 2
}
